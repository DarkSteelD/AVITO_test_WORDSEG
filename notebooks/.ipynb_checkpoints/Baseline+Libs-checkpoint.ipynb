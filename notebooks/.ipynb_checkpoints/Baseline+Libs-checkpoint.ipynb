{
 "cells": [
  {
   "cell_type": "markdown",
   "id": "bf685352-eaae-4237-a9fc-38cc0a134605",
   "metadata": {},
   "source": [
    "Униграмы, бейслайн по легкости"
   ]
  },
  {
   "cell_type": "code",
   "execution_count": 1,
   "id": "77c66aeb-b9e6-44ae-8547-438dca6c4a06",
   "metadata": {},
   "outputs": [
    {
     "name": "stdout",
     "output_type": "stream",
     "text": [
      "Библиотеки успешно импортированы.\n"
     ]
    }
   ],
   "source": [
    "import polars as pl\n",
    "import numpy as np\n",
    "from collections import Counter\n",
    "import math\n",
    "from tqdm.notebook import tqdm\n",
    "import glob\n",
    "\n",
    "pl.Config.set_fmt_str_lengths(100)\n",
    "\n",
    "print(\"Библиотеки успешно импортированы.\")"
   ]
  },
  {
   "cell_type": "code",
   "execution_count": 6,
   "id": "569da8ce-9243-423d-925d-d6923a39032b",
   "metadata": {},
   "outputs": [
    {
     "name": "stdout",
     "output_type": "stream",
     "text": [
      "Найденные файлы: ['../data/proccesed_data/item_info_train.parquet', '../data/proccesed_data/item_info.parquet', '../data/proccesed_data/pesni.parquet', '../data/proccesed_data/processed_corpus.parquet']\n",
      "\n",
      "Составляем план для загрузки 10% из каждого файла...\n",
      "  - Файл 'item_info_train.parquet': всего строк 16276308, берем 1627630\n",
      "  - Файл 'item_info.parquet': всего строк 5810022, берем 581002\n",
      "  - Файл 'pesni.parquet': всего строк 4940902, берем 494090\n",
      "  - Файл 'processed_corpus.parquet': всего строк 9321, берем 932\n",
      "\n",
      "Начинаем материализацию сэмпла и вычисление позиций...\n",
      "\n",
      "Всего загружено и обработано строк (сэмпл): 2703654\n"
     ]
    },
    {
     "data": {
      "text/html": [
       "<div><style>\n",
       ".dataframe > thead > tr,\n",
       ".dataframe > tbody > tr {\n",
       "  text-align: right;\n",
       "  white-space: pre-wrap;\n",
       "}\n",
       "</style>\n",
       "<small>shape: (5, 4)</small><table border=\"1\" class=\"dataframe\"><thead><tr><th>id</th><th>sentence_with_spaces</th><th>sentence_without_spaces</th><th>true_positions</th></tr><tr><td>i64</td><td>str</td><td>str</td><td>list[i64]</td></tr></thead><tbody><tr><td>1496341</td><td>&quot;и к черту соглашение с Янктоном&quot;</td><td>&quot;икчертусоглашениесЯнктоном&quot;</td><td>[1, 2, … 18]</td></tr><tr><td>1</td><td>&quot;Продам Камаз 6520 20 тонн&quot;</td><td>&quot;ПродамКамаз652020тонн&quot;</td><td>[6, 11, … 17]</td></tr><tr><td>5139734</td><td>&quot;Дверь газ 21&quot;</td><td>&quot;Дверьгаз21&quot;</td><td>[5, 8]</td></tr><tr><td>9823880</td><td>&quot;(937) 3-44444-8 — 10 т.&quot;</td><td>&quot;(937)3-44444-8—10т.&quot;</td><td>[5, 14, … 17]</td></tr><tr><td>13288818</td><td>&quot;Monster Tiger Nut DY229\n",
       "Товар новый!&quot;</td><td>&quot;MonsterTigerNutDY229\n",
       "Товарновый!&quot;</td><td>[7, 12, … 26]</td></tr></tbody></table></div>"
      ],
      "text/plain": [
       "shape: (5, 4)\n",
       "┌──────────┬─────────────────────────────────┬────────────────────────────┬────────────────┐\n",
       "│ id       ┆ sentence_with_spaces            ┆ sentence_without_spaces    ┆ true_positions │\n",
       "│ ---      ┆ ---                             ┆ ---                        ┆ ---            │\n",
       "│ i64      ┆ str                             ┆ str                        ┆ list[i64]      │\n",
       "╞══════════╪═════════════════════════════════╪════════════════════════════╪════════════════╡\n",
       "│ 1496341  ┆ и к черту соглашение с Янктоном ┆ икчертусоглашениесЯнктоном ┆ [1, 2, … 18]   │\n",
       "│ 1        ┆ Продам Камаз 6520 20 тонн       ┆ ПродамКамаз652020тонн      ┆ [6, 11, … 17]  │\n",
       "│ 5139734  ┆ Дверь газ 21                    ┆ Дверьгаз21                 ┆ [5, 8]         │\n",
       "│ 9823880  ┆ (937) 3-44444-8 — 10 т.         ┆ (937)3-44444-8—10т.        ┆ [5, 14, … 17]  │\n",
       "│ 13288818 ┆ Monster Tiger Nut DY229         ┆ MonsterTigerNutDY229       ┆ [7, 12, … 26]  │\n",
       "│          ┆ Товар новый!                    ┆ Товарновый!                ┆                │\n",
       "└──────────┴─────────────────────────────────┴────────────────────────────┴────────────────┘"
      ]
     },
     "execution_count": 6,
     "metadata": {},
     "output_type": "execute_result"
    }
   ],
   "source": [
    "import polars as pl\n",
    "import glob\n",
    "from tqdm.notebook import tqdm\n",
    "\n",
    "DATA_PATH = '../data/proccesed_data/'\n",
    "\n",
    "all_parquet_files = glob.glob(f\"{DATA_PATH}*.parquet\")\n",
    "\n",
    "if not all_parquet_files:\n",
    "    raise FileNotFoundError(f\"В папке {DATA_PATH} не найдено parquet-файлов. Убедитесь, что путь указан верно.\")\n",
    "\n",
    "print(f\"Найденные файлы: {all_parquet_files}\")\n",
    "\n",
    "SAMPLE_FRACTION = 0.1\n",
    "lazy_frames = []\n",
    "\n",
    "print(f\"\\nСоставляем план для загрузки {SAMPLE_FRACTION*100:.0f}% из каждого файла...\")\n",
    "\n",
    "for file in all_parquet_files:\n",
    "    lf = pl.scan_parquet(file)\n",
    "    \n",
    "    total_rows = lf.select(pl.len()).collect().item()\n",
    "    sample_size = int(total_rows * SAMPLE_FRACTION)\n",
    "    sampled_lf = lf.with_columns(\n",
    "        pl.lit(pl.arange(0, total_rows, eager=True).shuffle(seed=42)).alias(\"random_index\")\n",
    "    ).sort(\"random_index\").head(sample_size).drop(\"random_index\")\n",
    "\n",
    "    lazy_frames.append(sampled_lf)\n",
    "    print(f\"  - Файл '{file.split('/')[-1]}': всего строк {total_rows}, берем {sample_size}\")\n",
    "\n",
    "combined_lazy_frame = pl.concat(lazy_frames)\n",
    "\n",
    "def get_space_positions(sentence_with_spaces: str) -> list:\n",
    "    \"\"\"Вычисляет ground truth позиции для пробелов.\"\"\"\n",
    "    if not isinstance(sentence_with_spaces, str) or not sentence_with_spaces:\n",
    "        return []\n",
    "    words = sentence_with_spaces.split(' ')\n",
    "    positions = []\n",
    "    current_pos = 0\n",
    "    for i, word in enumerate(words):\n",
    "        current_pos += len(word)\n",
    "        if i < len(words) - 1:\n",
    "            positions.append(current_pos)\n",
    "    return positions\n",
    "\n",
    "print(\"\\nНачинаем материализацию сэмпла и вычисление позиций...\")\n",
    "df = combined_lazy_frame.with_columns(\n",
    "    pl.col(\"sentence_with_spaces\").map_elements(\n",
    "        get_space_positions, \n",
    "        return_dtype=pl.List(pl.Int64)\n",
    "    ).alias(\"true_positions\")\n",
    ").collect()\n",
    "\n",
    "df = df.sample(fraction=1, shuffle=True, seed=42)\n",
    "\n",
    "print(f\"\\nВсего загружено и обработано строк (сэмпл): {len(df)}\")\n",
    "df.head()"
   ]
  },
  {
   "cell_type": "code",
   "execution_count": 7,
   "id": "251e99f8-3988-411a-8ca1-98e669f7e393",
   "metadata": {},
   "outputs": [
    {
     "name": "stdout",
     "output_type": "stream",
     "text": [
      "Размер обучающей выборки (train): 2433288\n",
      "Размер тестовой выборки (test): 270366\n"
     ]
    }
   ],
   "source": [
    "train_fraction = 0.9\n",
    "train_size = int(train_fraction * len(df))\n",
    "\n",
    "train_df = df.slice(0, train_size)\n",
    "test_df = df.slice(train_size)\n",
    "\n",
    "print(f\"Размер обучающей выборки (train): {len(train_df)}\")\n",
    "print(f\"Размер тестовой выборки (test): {len(test_df)}\")"
   ]
  },
  {
   "cell_type": "code",
   "execution_count": 9,
   "id": "3b005391-14dd-4d86-8a19-841ef7612f2a",
   "metadata": {},
   "outputs": [
    {
     "name": "stdout",
     "output_type": "stream",
     "text": [
      "Строим языковую модель на обучающей выборке...\n",
      "Размер словаря: 1919082 слов.\n",
      "Максимальная длина слова: 2706\n"
     ]
    }
   ],
   "source": [
    "print(\"Строим языковую модель на обучающей выборке...\")\n",
    "all_words_series = train_df.select(\n",
    "    pl.col(\"sentence_with_spaces\").str.split(by=\" \")\n",
    ").explode(\"sentence_with_spaces\")\n",
    "\n",
    "all_words = all_words_series[\"sentence_with_spaces\"].to_list()\n",
    "\n",
    "word_counts = Counter(all_words)\n",
    "total_words = len(all_words)\n",
    "\n",
    "log_probs = {word: math.log(count / total_words) for word, count in word_counts.items()}\n",
    "\n",
    "MAX_WORD_LEN = all_words_series.select(\n",
    "    pl.col(\"sentence_with_spaces\").str.len_chars().max()\n",
    ").item()\n",
    "\n",
    "print(f\"Размер словаря: {len(log_probs)} слов.\")\n",
    "print(f\"Максимальная длина слова: {MAX_WORD_LEN}\")"
   ]
  },
  {
   "cell_type": "code",
   "execution_count": 10,
   "id": "53eb5bc7-0fec-4396-8b25-2f7310b2e854",
   "metadata": {},
   "outputs": [],
   "source": [
    "def segment_text_dp(text: str, log_probs: dict, max_word_len: int) -> list:\n",
    "\n",
    "    n = len(text)\n",
    "    dp = [-math.inf] * (n + 1)\n",
    "    backpointers = [0] * (n + 1)\n",
    "    dp[0] = 0\n",
    "\n",
    "    for i in range(1, n + 1):\n",
    "        for j in range(max(0, i - max_word_len), i):\n",
    "            word = text[j:i]\n",
    "            if word in log_probs:\n",
    "                prob = log_probs[word]\n",
    "                if dp[j] + prob > dp[i]:\n",
    "                    dp[i] = dp[j] + prob\n",
    "                    backpointers[i] = j\n",
    "\n",
    "    positions = []\n",
    "    i = n\n",
    "    while i > 0:\n",
    "        j = backpointers[i]\n",
    "        if j == 0:\n",
    "            break\n",
    "        positions.append(j)\n",
    "        i = j\n",
    "    \n",
    "    return sorted(positions)"
   ]
  },
  {
   "cell_type": "code",
   "execution_count": 11,
   "id": "4b2f2f2d-c0ff-4e04-974c-37232f7289d9",
   "metadata": {},
   "outputs": [],
   "source": [
    "def calculate_f1(predicted: list, true: list) -> float:\n",
    "    pred_set = set(predicted)\n",
    "    true_set = set(true)\n",
    "    \n",
    "    tp = len(pred_set.intersection(true_set))\n",
    "    \n",
    "    if len(pred_set) == 0:\n",
    "        precision = 0.0\n",
    "    else:\n",
    "        precision = tp / len(pred_set)\n",
    "        \n",
    "    if len(true_set) == 0:\n",
    "        recall = 1.0 if len(pred_set) == 0 else 0.0\n",
    "    else:\n",
    "        recall = tp / len(true_set)\n",
    "        \n",
    "    if precision + recall == 0:\n",
    "        return 0.0\n",
    "    \n",
    "    f1 = 2 * (precision * recall) / (precision + recall)\n",
    "    return f1"
   ]
  },
  {
   "cell_type": "code",
   "execution_count": 15,
   "id": "e2686957-757d-4132-a03b-d50ba6f3b746",
   "metadata": {},
   "outputs": [
    {
     "name": "stdout",
     "output_type": "stream",
     "text": [
      "Начинаем предсказание на тестовой выборке...\n"
     ]
    },
    {
     "data": {
      "application/vnd.jupyter.widget-view+json": {
       "model_id": "064bb3b0d8974266badda4b52233720d",
       "version_major": 2,
       "version_minor": 0
      },
      "text/plain": [
       "Предсказание позиций:   0%|          | 0/270366 [00:00<?, ?it/s]"
      ]
     },
     "metadata": {},
     "output_type": "display_data"
    },
    {
     "name": "stdout",
     "output_type": "stream",
     "text": [
      "\n",
      "Вычисляем F1-score...\n"
     ]
    },
    {
     "data": {
      "application/vnd.jupyter.widget-view+json": {
       "model_id": "5a77ed8632f04a54806d68a812be4fa0",
       "version_major": 2,
       "version_minor": 0
      },
      "text/plain": [
       "Вычисление F1:   0%|          | 0/270366 [00:00<?, ?it/s]"
      ]
     },
     "metadata": {},
     "output_type": "display_data"
    },
    {
     "name": "stdout",
     "output_type": "stream",
     "text": [
      "\n",
      "Средний F1-score на тестовой выборке: 0.8321\n",
      "\n",
      "Примеры с низким F1-score:\n",
      "shape: (5, 6)\n",
      "┌──────────┬───────────────────┬───────────────────┬────────────────┬───────────────────┬──────────┐\n",
      "│ id       ┆ sentence_with_spa ┆ sentence_without_ ┆ true_positions ┆ predicted_positio ┆ f1_score │\n",
      "│ ---      ┆ ces               ┆ spaces            ┆ ---            ┆ ns                ┆ ---      │\n",
      "│ i64      ┆ ---               ┆ ---               ┆ list[i64]      ┆ ---               ┆ f64      │\n",
      "│          ┆ str               ┆ str               ┆                ┆ list[i64]         ┆          │\n",
      "╞══════════╪═══════════════════╪═══════════════════╪════════════════╪═══════════════════╪══════════╡\n",
      "│ 14686419 ┆ СРОЧНО            ┆ СРОЧНО            ┆ []             ┆ []                ┆ 0.0      │\n",
      "│ 4609223  ┆ Вторичка.         ┆ Вторичка.         ┆ []             ┆ [1, 3, 6]         ┆ 0.0      │\n",
      "│ 8071711  ┆ _________________ ┆ _________________ ┆ []             ┆ []                ┆ 0.0      │\n",
      "│          ┆ _________________ ┆ _________________ ┆                ┆                   ┆          │\n",
      "│          ┆ _________________ ┆ _________________ ┆                ┆                   ┆          │\n",
      "│          ┆ _                 ┆ _                 ┆                ┆                   ┆          │\n",
      "│ 10587356 ┆ Деньги.           ┆ Деньги.           ┆ []             ┆ []                ┆ 0.0      │\n",
      "│ 14054611 ┆ 500 р.            ┆ 500р.             ┆ [3]            ┆ []                ┆ 0.0      │\n",
      "└──────────┴───────────────────┴───────────────────┴────────────────┴───────────────────┴──────────┘\n",
      "\n",
      "Примеры с высоким F1-score:\n",
      "shape: (5, 6)\n",
      "┌──────────┬───────────────────┬───────────────────┬────────────────┬───────────────────┬──────────┐\n",
      "│ id       ┆ sentence_with_spa ┆ sentence_without_ ┆ true_positions ┆ predicted_positio ┆ f1_score │\n",
      "│ ---      ┆ ces               ┆ spaces            ┆ ---            ┆ ns                ┆ ---      │\n",
      "│ i64      ┆ ---               ┆ ---               ┆ list[i64]      ┆ ---               ┆ f64      │\n",
      "│          ┆ str               ┆ str               ┆                ┆ list[i64]         ┆          │\n",
      "╞══════════╪═══════════════════╪═══════════════════╪════════════════╪═══════════════════╪══════════╡\n",
      "│ 11810066 ┆ Диски R15 для     ┆ ДискиR15длявнедор ┆ [5, 8, 11]     ┆ [5, 8, 11]        ┆ 1.0      │\n",
      "│          ┆ внедорожников.    ┆ ожников.          ┆                ┆                   ┆          │\n",
      "│ 10450169 ┆ Все инструменты   ┆ Всеинструментынов ┆ [3, 14, … 52]  ┆ [3, 14, … 52]     ┆ 1.0      │\n",
      "│          ┆ новые, с          ┆ ые,сдокументамииг ┆                ┆                   ┆          │\n",
      "│          ┆ документами и     ┆ арантией,срокомот ┆                ┆                   ┆          │\n",
      "│          ┆ гарантией, сроком ┆ 1года.            ┆                ┆                   ┆          │\n",
      "│          ┆ от 1 года.        ┆                   ┆                ┆                   ┆          │\n",
      "│ 8750524  ┆ Доставка по СПб   ┆ ДоставкапоСПб     ┆ [8, 10, … 25]  ┆ [8, 10, … 25]     ┆ 1.0      │\n",
      "│          ┆ Отправляем в      ┆ Отправляемврегион ┆                ┆                   ┆          │\n",
      "│          ┆ регионы.          ┆ ы.                ┆                ┆                   ┆          │\n",
      "│ 9229936  ┆ Натуральная кожа. ┆ Натуральнаякожа.  ┆ [11]           ┆ [11]              ┆ 1.0      │\n",
      "│ 1150225  ┆ но они потеряли   ┆ ноонипотерялиего, ┆ [2, 5, … 49]   ┆ [2, 5, … 49]      ┆ 1.0      │\n",
      "│          ┆ его, не успев     ┆ неуспевустановить ┆                ┆                   ┆          │\n",
      "│          ┆ установить        ┆ местонахождениема ┆                ┆                   ┆          │\n",
      "│          ┆ местонахождение   ┆ шины.             ┆                ┆                   ┆          │\n",
      "│          ┆ машины.           ┆                   ┆                ┆                   ┆          │\n",
      "└──────────┴───────────────────┴───────────────────┴────────────────┴───────────────────┴──────────┘\n"
     ]
    }
   ],
   "source": [
    "print(\"Начинаем предсказание на тестовой выборке...\")\n",
    "sentences_to_process = test_df[\"sentence_without_spaces\"].to_list()\n",
    "\n",
    "predicted_positions_list = [\n",
    "    segment_text_dp(x, log_probs, MAX_WORD_LEN) \n",
    "    for x in tqdm(sentences_to_process, desc=\"Предсказание позиций\")\n",
    "]\n",
    "\n",
    "predicted_series = pl.Series(\"predicted_positions\", predicted_positions_list, dtype=pl.List(pl.Int64))\n",
    "\n",
    "test_df_processed = test_df.with_columns(predicted_series)\n",
    "\n",
    "\n",
    "print(\"\\nВычисляем F1-score...\")\n",
    "structs_to_process = test_df_processed.select(\n",
    "    pl.struct([\"predicted_positions\", \"true_positions\"]).alias(\"my_struct\")\n",
    ")[\"my_struct\"].to_list()\n",
    "\n",
    "f1_scores_list = [\n",
    "    calculate_f1(s[\"predicted_positions\"], s[\"true_positions\"])\n",
    "    for s in tqdm(structs_to_process, desc=\"Вычисление F1\")\n",
    "]\n",
    "\n",
    "f1_series = pl.Series(\"f1_score\", f1_scores_list, dtype=pl.Float64)\n",
    "\n",
    "results_df = test_df_processed.with_columns(f1_series)\n",
    "\n",
    "\n",
    "mean_f1 = results_df['f1_score'].mean()\n",
    "\n",
    "print(f\"\\nСредний F1-score на тестовой выборке: {mean_f1:.4f}\")\n",
    "print(results_df.sort(\"f1_score\").head(5))\n",
    "\n",
    "print(\"\\nПримеры с высоким F1-score:\")\n",
    "print(results_df.sort(\"f1_score\", descending=True).head(5))"
   ]
  },
  {
   "cell_type": "code",
   "execution_count": 16,
   "id": "72ed6dca-42f6-4b32-8e16-6a752e960427",
   "metadata": {},
   "outputs": [
    {
     "name": "stdout",
     "output_type": "stream",
     "text": [
      "Collecting wordsegment\n",
      "  Downloading wordsegment-1.3.1-py2.py3-none-any.whl.metadata (7.7 kB)\n",
      "Downloading wordsegment-1.3.1-py2.py3-none-any.whl (4.8 MB)\n",
      "\u001b[2K   \u001b[38;2;114;156;31m━━━━━━━━━━━━━━━━━━━━━━━━━━━━━━━━━━━━━━━━\u001b[0m \u001b[32m4.8/4.8 MB\u001b[0m \u001b[31m3.6 MB/s\u001b[0m eta \u001b[36m0:00:00\u001b[0m[31m3.8 MB/s\u001b[0m eta \u001b[36m0:00:01\u001b[0m\n",
      "\u001b[?25hInstalling collected packages: wordsegment\n",
      "Successfully installed wordsegment-1.3.1\n",
      "Инициализация `wordsegment`...\n",
      "Начинаем предсказание с помощью `wordsegment`...\n"
     ]
    },
    {
     "data": {
      "application/vnd.jupyter.widget-view+json": {
       "model_id": "e59efbbc81d74cc99c7cea259aad7a1f",
       "version_major": 2,
       "version_minor": 0
      },
      "text/plain": [
       "wordsegment:   0%|          | 0/270366 [00:00<?, ?it/s]"
      ]
     },
     "metadata": {},
     "output_type": "display_data"
    },
    {
     "name": "stdout",
     "output_type": "stream",
     "text": [
      "\n",
      "Средний F1-score на тестовой выборке (wordsegment): 0.0136\n"
     ]
    }
   ],
   "source": [
    "!pip install wordsegment\n",
    "import wordsegment\n",
    "\n",
    "wordsegment.load()\n",
    "\n",
    "def segment_with_wordsegment(text: str) -> list:\n",
    "    words = wordsegment.segment(text)\n",
    "    \n",
    "    positions = []\n",
    "    current_pos = 0\n",
    "    for i, word in enumerate(words):\n",
    "        current_pos += len(word)\n",
    "        if i < len(words) - 1:\n",
    "            positions.append(current_pos)\n",
    "            \n",
    "    return positions\n",
    "\n",
    "sentences_to_process = test_df[\"sentence_without_spaces\"].to_list()\n",
    "\n",
    "predicted_positions_list_ws = [\n",
    "    segment_with_wordsegment(x) \n",
    "    for x in tqdm(sentences_to_process, desc=\"wordsegment\")\n",
    "]\n",
    "\n",
    "results_df_ws = test_df.with_columns(\n",
    "    pl.Series(\"predicted_positions\", predicted_positions_list_ws, dtype=pl.List(pl.Int64))\n",
    ")\n",
    "\n",
    "f1_scores_ws = [\n",
    "    calculate_f1(row[\"predicted_positions\"], row[\"true_positions\"])\n",
    "    for row in results_df_ws.select([\"predicted_positions\", \"true_positions\"]).iter_rows(named=True)\n",
    "]\n",
    "\n",
    "mean_f1_ws = sum(f1_scores_ws) / len(f1_scores_ws)\n",
    "\n",
    "print(f\"\\nСредний F1-score на тестовой выборке (wordsegment): {mean_f1_ws:.4f}\")"
   ]
  },
  {
   "cell_type": "code",
   "execution_count": null,
   "id": "b12bd093-159e-44f7-a22c-fef93618475a",
   "metadata": {},
   "outputs": [],
   "source": []
  }
 ],
 "metadata": {
  "kernelspec": {
   "display_name": "Python (notebook)",
   "language": "python",
   "name": "notebook"
  },
  "language_info": {
   "codemirror_mode": {
    "name": "ipython",
    "version": 3
   },
   "file_extension": ".py",
   "mimetype": "text/x-python",
   "name": "python",
   "nbconvert_exporter": "python",
   "pygments_lexer": "ipython3",
   "version": "3.11.13"
  }
 },
 "nbformat": 4,
 "nbformat_minor": 5
}
