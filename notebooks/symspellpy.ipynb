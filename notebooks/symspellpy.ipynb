{
 "cells": [
  {
   "cell_type": "code",
   "execution_count": 1,
   "id": "b597637f-38c0-41af-8753-5968375382c9",
   "metadata": {},
   "outputs": [
    {
     "name": "stdout",
     "output_type": "stream",
     "text": [
      "Найденные файлы: ['../data/proccesed_data/item_info_train.parquet', '../data/proccesed_data/item_info.parquet', '../data/proccesed_data/pesni.parquet', '../data/proccesed_data/processed_corpus.parquet']\n",
      "\n",
      "Составляем план для загрузки 10% из каждого файла...\n",
      "  - Файл 'item_info_train.parquet': всего строк 16276308, берем 1627630\n",
      "  - Файл 'item_info.parquet': всего строк 5810022, берем 581002\n",
      "  - Файл 'pesni.parquet': всего строк 4940902, берем 494090\n",
      "  - Файл 'processed_corpus.parquet': всего строк 9321, берем 932\n",
      "\n",
      "Начинаем материализацию сэмпла и вычисление позиций...\n",
      "\n",
      "Всего загружено и обработано строк (сэмпл): 2703654\n"
     ]
    },
    {
     "data": {
      "text/html": [
       "<div><style>\n",
       ".dataframe > thead > tr,\n",
       ".dataframe > tbody > tr {\n",
       "  text-align: right;\n",
       "  white-space: pre-wrap;\n",
       "}\n",
       "</style>\n",
       "<small>shape: (5, 4)</small><table border=\"1\" class=\"dataframe\"><thead><tr><th>id</th><th>sentence_with_spaces</th><th>sentence_without_spaces</th><th>true_positions</th></tr><tr><td>i64</td><td>str</td><td>str</td><td>list[i64]</td></tr></thead><tbody><tr><td>1496341</td><td>&quot;и к черту соглашение с Янктоно…</td><td>&quot;икчертусоглашениесЯнктоном&quot;</td><td>[1, 2, … 18]</td></tr><tr><td>1</td><td>&quot;Продам Камаз 6520 20 тонн&quot;</td><td>&quot;ПродамКамаз652020тонн&quot;</td><td>[6, 11, … 17]</td></tr><tr><td>5139734</td><td>&quot;Дверь газ 21&quot;</td><td>&quot;Дверьгаз21&quot;</td><td>[5, 8]</td></tr><tr><td>9823880</td><td>&quot;(937) 3-44444-8 — 10 т.&quot;</td><td>&quot;(937)3-44444-8—10т.&quot;</td><td>[5, 14, … 17]</td></tr><tr><td>13288818</td><td>&quot;Monster Tiger Nut DY229\n",
       "Товар …</td><td>&quot;MonsterTigerNutDY229\n",
       "Товарновы…</td><td>[7, 12, … 26]</td></tr></tbody></table></div>"
      ],
      "text/plain": [
       "shape: (5, 4)\n",
       "┌──────────┬─────────────────────────────────┬────────────────────────────┬────────────────┐\n",
       "│ id       ┆ sentence_with_spaces            ┆ sentence_without_spaces    ┆ true_positions │\n",
       "│ ---      ┆ ---                             ┆ ---                        ┆ ---            │\n",
       "│ i64      ┆ str                             ┆ str                        ┆ list[i64]      │\n",
       "╞══════════╪═════════════════════════════════╪════════════════════════════╪════════════════╡\n",
       "│ 1496341  ┆ и к черту соглашение с Янктоно… ┆ икчертусоглашениесЯнктоном ┆ [1, 2, … 18]   │\n",
       "│ 1        ┆ Продам Камаз 6520 20 тонн       ┆ ПродамКамаз652020тонн      ┆ [6, 11, … 17]  │\n",
       "│ 5139734  ┆ Дверь газ 21                    ┆ Дверьгаз21                 ┆ [5, 8]         │\n",
       "│ 9823880  ┆ (937) 3-44444-8 — 10 т.         ┆ (937)3-44444-8—10т.        ┆ [5, 14, … 17]  │\n",
       "│ 13288818 ┆ Monster Tiger Nut DY229         ┆ MonsterTigerNutDY229       ┆ [7, 12, … 26]  │\n",
       "│          ┆ Товар …                         ┆ Товарновы…                 ┆                │\n",
       "└──────────┴─────────────────────────────────┴────────────────────────────┴────────────────┘"
      ]
     },
     "execution_count": 1,
     "metadata": {},
     "output_type": "execute_result"
    }
   ],
   "source": [
    "import polars as pl\n",
    "import glob\n",
    "from tqdm.notebook import tqdm\n",
    "\n",
    "DATA_PATH = '../data/proccesed_data/'\n",
    "\n",
    "all_parquet_files = glob.glob(f\"{DATA_PATH}*.parquet\")\n",
    "\n",
    "if not all_parquet_files:\n",
    "    raise FileNotFoundError(f\"В папке {DATA_PATH} не найдено parquet-файлов. Убедитесь, что путь указан верно.\")\n",
    "\n",
    "print(f\"Найденные файлы: {all_parquet_files}\")\n",
    "\n",
    "SAMPLE_FRACTION = 0.1\n",
    "lazy_frames = []\n",
    "\n",
    "print(f\"\\nСоставляем план для загрузки {SAMPLE_FRACTION*100:.0f}% из каждого файла...\")\n",
    "\n",
    "for file in all_parquet_files:\n",
    "    lf = pl.scan_parquet(file)\n",
    "    \n",
    "    total_rows = lf.select(pl.len()).collect().item()\n",
    "    sample_size = int(total_rows * SAMPLE_FRACTION)\n",
    "    sampled_lf = lf.with_columns(\n",
    "        pl.lit(pl.arange(0, total_rows, eager=True).shuffle(seed=42)).alias(\"random_index\")\n",
    "    ).sort(\"random_index\").head(sample_size).drop(\"random_index\")\n",
    "\n",
    "    lazy_frames.append(sampled_lf)\n",
    "    print(f\"  - Файл '{file.split('/')[-1]}': всего строк {total_rows}, берем {sample_size}\")\n",
    "\n",
    "combined_lazy_frame = pl.concat(lazy_frames)\n",
    "\n",
    "def get_space_positions(sentence_with_spaces: str) -> list:\n",
    "    \"\"\"Вычисляет ground truth позиции для пробелов.\"\"\"\n",
    "    if not isinstance(sentence_with_spaces, str) or not sentence_with_spaces:\n",
    "        return []\n",
    "    words = sentence_with_spaces.split(' ')\n",
    "    positions = []\n",
    "    current_pos = 0\n",
    "    for i, word in enumerate(words):\n",
    "        current_pos += len(word)\n",
    "        if i < len(words) - 1:\n",
    "            positions.append(current_pos)\n",
    "    return positions\n",
    "\n",
    "print(\"\\nНачинаем материализацию сэмпла и вычисление позиций...\")\n",
    "df = combined_lazy_frame.with_columns(\n",
    "    pl.col(\"sentence_with_spaces\").map_elements(\n",
    "        get_space_positions, \n",
    "        return_dtype=pl.List(pl.Int64)\n",
    "    ).alias(\"true_positions\")\n",
    ").collect()\n",
    "\n",
    "df = df.sample(fraction=1, shuffle=True, seed=42)\n",
    "\n",
    "print(f\"\\nВсего загружено и обработано строк (сэмпл): {len(df)}\")\n",
    "df.head()"
   ]
  },
  {
   "cell_type": "code",
   "execution_count": 3,
   "id": "4cbe9a49-c201-42b2-9b9d-a5dfc1a7b5c1",
   "metadata": {},
   "outputs": [
    {
     "name": "stdout",
     "output_type": "stream",
     "text": [
      "Размер обучающей выборки (train): 2433288\n",
      "Размер тестовой выборки (test): 270366\n",
      "\n",
      "Ячейка 2: Данные успешно загружены и подготовлены.\n"
     ]
    }
   ],
   "source": [
    "from collections import Counter\n",
    "import os\n",
    "import math\n",
    "\n",
    "from symspellpy import SymSpell\n",
    "\n",
    "\n",
    "RANDOM_SEED = 42\n",
    "pl.Config.set_fmt_str_lengths(100)\n",
    "\n",
    "train_fraction = 0.9\n",
    "train_size = int(train_fraction * len(df))\n",
    "train_df = df.slice(0, train_size)\n",
    "test_df = df.slice(train_size)\n",
    "\n",
    "print(f\"Размер обучающей выборки (train): {len(train_df)}\")\n",
    "print(f\"Размер тестовой выборки (test): {len(test_df)}\")\n",
    "print(\"\\nЯчейка 2: Данные успешно загружены и подготовлены.\")"
   ]
  },
  {
   "cell_type": "code",
   "execution_count": 4,
   "id": "9eadddd7-7718-4484-9b12-3ba3ddf9921f",
   "metadata": {},
   "outputs": [
    {
     "name": "stdout",
     "output_type": "stream",
     "text": [
      "Создаем частотный словарь на обучающих данных...\n",
      "Словарь создан. Уникальных слов: 1919082, макс. длина слова: 50\n",
      "Создаем временный файл словаря: 'symspell_dictionary.txt'\n",
      "Словарь успешно загружен в SymSpell.\n",
      "\n",
      "Ячейка 3: Языковая модель готова.\n"
     ]
    }
   ],
   "source": [
    "print(\"Создаем частотный словарь на обучающих данных...\")\n",
    "all_words_series = train_df.select(\n",
    "    pl.col(\"sentence_with_spaces\").str.split(by=\" \")\n",
    ").explode(\"sentence_with_spaces\")\n",
    "unigram_counts = Counter(all_words_series[\"sentence_with_spaces\"].to_list())\n",
    "\n",
    "calculated_max_len = all_words_series.select(\n",
    "    pl.col(\"sentence_with_spaces\").str.len_chars().max()\n",
    ").item()\n",
    "MAX_WORD_LEN = min(calculated_max_len, 50)\n",
    "print(f\"Словарь создан. Уникальных слов: {len(unigram_counts)}, макс. длина слова: {MAX_WORD_LEN}\")\n",
    "\n",
    "dictionary_path = \"symspell_dictionary.txt\"\n",
    "print(f\"Создаем временный файл словаря: '{dictionary_path}'\")\n",
    "\n",
    "with open(dictionary_path, \"w\", encoding=\"utf-8\") as f:\n",
    "    for word, count in unigram_counts.items():\n",
    "        if word:\n",
    "            f.write(f\"{word} {count}\\n\")\n",
    "\n",
    "sym_spell = SymSpell(max_dictionary_edit_distance=0, prefix_length=7)\n",
    "if not sym_spell.load_dictionary(dictionary_path, term_index=0, count_index=1):\n",
    "    raise IOError(\"Файл словаря не может быть загружен SymSpell.\")\n",
    "else:\n",
    "    print(\"Словарь успешно загружен в SymSpell.\")\n",
    "    \n",
    "print(\"\\nЯчейка 3: Языковая модель готова.\")"
   ]
  },
  {
   "cell_type": "code",
   "execution_count": 8,
   "id": "7d79d843-76d1-4957-9ac6-f48435fad8a1",
   "metadata": {},
   "outputs": [
    {
     "name": "stdout",
     "output_type": "stream",
     "text": [
      "Создаем частотный словарь на обучающих данных...\n",
      "Словарь создан. Уникальных слов: 1919082, макс. длина слова: 50\n",
      "Создаем временный файл словаря: 'symspell_dictionary.txt'\n",
      "Инициализируем SymSpell с prefix_length=15...\n",
      "Словарь успешно загружен в SymSpell.\n",
      "\n",
      "Ячейка 3: Языковая модель готова.\n"
     ]
    }
   ],
   "source": [
    "print(\"Создаем частотный словарь на обучающих данных...\")\n",
    "all_words_series = train_df.select(\n",
    "    pl.col(\"sentence_with_spaces\").str.split(by=\" \")\n",
    ").explode(\"sentence_with_spaces\")\n",
    "unigram_counts = Counter(all_words_series[\"sentence_with_spaces\"].to_list())\n",
    "calculated_max_len = all_words_series.select(\n",
    "    pl.col(\"sentence_with_spaces\").str.len_chars().max()\n",
    ").item()\n",
    "MAX_WORD_LEN = min(calculated_max_len, 50)\n",
    "print(f\"Словарь создан. Уникальных слов: {len(unigram_counts)}, макс. длина слова: {MAX_WORD_LEN}\")\n",
    "\n",
    "dictionary_path = \"symspell_dictionary.txt\"\n",
    "print(f\"Создаем временный файл словаря: '{dictionary_path}'\")\n",
    "with open(dictionary_path, \"w\", encoding=\"utf-8\") as f:\n",
    "    for word, count in unigram_counts.items():\n",
    "        if word:\n",
    "            f.write(f\"{word} {count}\\n\")\n",
    "\n",
    "NEW_PREFIX_LENGTH = 15\n",
    "print(f\"Инициализируем SymSpell с prefix_length={NEW_PREFIX_LENGTH}...\")\n",
    "sym_spell = SymSpell(max_dictionary_edit_distance=0, prefix_length=NEW_PREFIX_LENGTH)\n",
    "\n",
    "if not sym_spell.load_dictionary(dictionary_path, term_index=0, count_index=1):\n",
    "    raise IOError(\"Файл словаря не может быть загружен SymSpell.\")\n",
    "else:\n",
    "    print(\"Словарь успешно загружен в SymSpell.\")\n",
    "    \n",
    "print(\"\\nЯчейка 3: Языковая модель готова.\")"
   ]
  },
  {
   "cell_type": "code",
   "execution_count": 9,
   "id": "64da0c8e-520c-4e1e-9590-3e43e31ef945",
   "metadata": {},
   "outputs": [
    {
     "name": "stdout",
     "output_type": "stream",
     "text": [
      "Ячейка 4: Функции для сегментации и оценки определены.\n"
     ]
    }
   ],
   "source": [
    "def segment_with_symspell(text: str) -> list:\n",
    "    \"\"\"Обертка для вызова symspellpy с защитой от OverflowError и IndexError.\"\"\"\n",
    "    if not text:\n",
    "        return []\n",
    "    try:\n",
    "        result = sym_spell.word_segmentation(text, max_edit_distance=0, max_segmentation_word_length=MAX_WORD_LEN)\n",
    "        words = result.segmented_string.split()\n",
    "    except (OverflowError, IndexError) as e:\n",
    "        print(f\"\\nПерехвачена ошибка ({type(e).__name__}) для строки длиной {len(text)}. Возвращаем пустой результат.\")\n",
    "        return []\n",
    "    \n",
    "    positions = []\n",
    "    current_pos = 0\n",
    "    for i, word in enumerate(words):\n",
    "        current_pos += len(word)\n",
    "        if i < len(words) - 1:\n",
    "            positions.append(current_pos)\n",
    "    return positions\n",
    "\n",
    "def calculate_f1_corrected(predicted: list, true: list) -> float:\n",
    "    if not predicted and not true: return 1.0\n",
    "    pred_set = set(predicted)\n",
    "    true_set = set(true)\n",
    "    tp = len(pred_set.intersection(true_set))\n",
    "    precision = tp / len(pred_set) if pred_set else 0.0\n",
    "    recall = tp / len(true_set) if true_set else 0.0\n",
    "    if precision + recall == 0: return 0.0\n",
    "    f1 = 2 * (precision * recall) / (precision + recall)\n",
    "    return f1\n",
    "\n",
    "print(\"Ячейка 4: Функции для сегментации и оценки определены.\")"
   ]
  },
  {
   "cell_type": "code",
   "execution_count": 10,
   "id": "94b7f8e8-c52c-4702-9daa-1b56f0831d9a",
   "metadata": {},
   "outputs": [
    {
     "name": "stdout",
     "output_type": "stream",
     "text": [
      "Начинаем предсказание на тестовой выборке с помощью `symspellpy`...\n"
     ]
    },
    {
     "data": {
      "application/vnd.jupyter.widget-view+json": {
       "model_id": "35baa8f3a55d42528d6a3bdd36f74185",
       "version_major": 2,
       "version_minor": 0
      },
      "text/plain": [
       "symspellpy:   0%|          | 0/270366 [00:00<?, ?it/s]"
      ]
     },
     "metadata": {},
     "output_type": "display_data"
    },
    {
     "name": "stdout",
     "output_type": "stream",
     "text": [
      "\n",
      "Перехвачена ошибка (IndexError) для строки длиной 76. Возвращаем пустой результат.\n",
      "\n",
      "Перехвачена ошибка (IndexError) для строки длиной 104. Возвращаем пустой результат.\n",
      "\n",
      "Перехвачена ошибка (IndexError) для строки длиной 1. Возвращаем пустой результат.\n",
      "\n",
      "Перехвачена ошибка (IndexError) для строки длиной 2. Возвращаем пустой результат.\n",
      "\n",
      "Перехвачена ошибка (IndexError) для строки длиной 43. Возвращаем пустой результат.\n",
      "\n",
      "Перехвачена ошибка (IndexError) для строки длиной 1. Возвращаем пустой результат.\n",
      "\n",
      "Перехвачена ошибка (IndexError) для строки длиной 1. Возвращаем пустой результат.\n",
      "\n",
      "Перехвачена ошибка (IndexError) для строки длиной 1. Возвращаем пустой результат.\n",
      "\n",
      "Перехвачена ошибка (IndexError) для строки длиной 77. Возвращаем пустой результат.\n",
      "\n",
      "Перехвачена ошибка (IndexError) для строки длиной 1. Возвращаем пустой результат.\n",
      "\n",
      "Перехвачена ошибка (IndexError) для строки длиной 32. Возвращаем пустой результат.\n",
      "\n",
      "Перехвачена ошибка (IndexError) для строки длиной 1. Возвращаем пустой результат.\n",
      "\n",
      "Перехвачена ошибка (IndexError) для строки длиной 1. Возвращаем пустой результат.\n",
      "\n",
      "Перехвачена ошибка (IndexError) для строки длиной 83. Возвращаем пустой результат.\n",
      "\n",
      "Перехвачена ошибка (IndexError) для строки длиной 1. Возвращаем пустой результат.\n",
      "\n",
      "Перехвачена ошибка (IndexError) для строки длиной 1. Возвращаем пустой результат.\n",
      "\n",
      "Перехвачена ошибка (IndexError) для строки длиной 6. Возвращаем пустой результат.\n",
      "\n",
      "Перехвачена ошибка (IndexError) для строки длиной 46. Возвращаем пустой результат.\n",
      "\n",
      "Перехвачена ошибка (IndexError) для строки длиной 1. Возвращаем пустой результат.\n",
      "\n",
      "Перехвачена ошибка (IndexError) для строки длиной 1. Возвращаем пустой результат.\n",
      "\n",
      "Перехвачена ошибка (IndexError) для строки длиной 1. Возвращаем пустой результат.\n",
      "\n",
      "Перехвачена ошибка (IndexError) для строки длиной 1. Возвращаем пустой результат.\n",
      "\n",
      "Перехвачена ошибка (IndexError) для строки длиной 83. Возвращаем пустой результат.\n",
      "\n",
      "Перехвачена ошибка (IndexError) для строки длиной 1. Возвращаем пустой результат.\n",
      "\n",
      "Перехвачена ошибка (IndexError) для строки длиной 1. Возвращаем пустой результат.\n",
      "\n",
      "Перехвачена ошибка (IndexError) для строки длиной 1. Возвращаем пустой результат.\n",
      "\n",
      "Перехвачена ошибка (IndexError) для строки длиной 1. Возвращаем пустой результат.\n",
      "\n",
      "Перехвачена ошибка (IndexError) для строки длиной 61. Возвращаем пустой результат.\n",
      "\n",
      "Перехвачена ошибка (IndexError) для строки длиной 1. Возвращаем пустой результат.\n",
      "\n",
      "Перехвачена ошибка (IndexError) для строки длиной 1. Возвращаем пустой результат.\n",
      "\n",
      "Перехвачена ошибка (IndexError) для строки длиной 1. Возвращаем пустой результат.\n",
      "\n",
      "Перехвачена ошибка (IndexError) для строки длиной 3. Возвращаем пустой результат.\n",
      "\n",
      "Перехвачена ошибка (IndexError) для строки длиной 1. Возвращаем пустой результат.\n",
      "\n",
      "Перехвачена ошибка (IndexError) для строки длиной 25. Возвращаем пустой результат.\n",
      "\n",
      "Перехвачена ошибка (IndexError) для строки длиной 1. Возвращаем пустой результат.\n",
      "\n",
      "Перехвачена ошибка (IndexError) для строки длиной 1. Возвращаем пустой результат.\n",
      "\n",
      "Перехвачена ошибка (IndexError) для строки длиной 87. Возвращаем пустой результат.\n",
      "\n",
      "Перехвачена ошибка (IndexError) для строки длиной 1. Возвращаем пустой результат.\n",
      "\n",
      "Перехвачена ошибка (IndexError) для строки длиной 25. Возвращаем пустой результат.\n",
      "\n",
      "Перехвачена ошибка (IndexError) для строки длиной 1. Возвращаем пустой результат.\n"
     ]
    },
    {
     "data": {
      "application/vnd.jupyter.widget-view+json": {
       "model_id": "833e8b49c752411db4ddc05dff3631de",
       "version_major": 2,
       "version_minor": 0
      },
      "text/plain": [
       "Вычисление F1:   0%|          | 0/270366 [00:00<?, ?it/s]"
      ]
     },
     "metadata": {},
     "output_type": "display_data"
    },
    {
     "name": "stdout",
     "output_type": "stream",
     "text": [
      "--------------------------------------------------\n",
      "ИТОГОВЫЙ РЕЗУЛЬТАТ:\n",
      "Средний F1-score на тестовой выборке: 0.7693\n",
      "--------------------------------------------------\n",
      "Временный файл словаря 'symspell_dictionary.txt' удален.\n",
      "\n",
      "Ячейка 5: Оценка завершена.\n"
     ]
    }
   ],
   "source": [
    "print(\"Начинаем предсказание на тестовой выборке с помощью `symspellpy`...\")\n",
    "\n",
    "sentences_to_process = test_df[\"sentence_without_spaces\"].to_list()\n",
    "\n",
    "predicted_positions_list = [\n",
    "    segment_with_symspell(s) \n",
    "    for s in tqdm(sentences_to_process, desc=\"symspellpy\")\n",
    "]\n",
    "\n",
    "results_df = test_df.with_columns(\n",
    "    pl.Series(\"predicted_positions\", predicted_positions_list, dtype=pl.List(pl.Int64))\n",
    ")\n",
    "\n",
    "f1_scores = [\n",
    "    calculate_f1_corrected(row[\"predicted_positions\"], row[\"true_positions\"])\n",
    "    for row in tqdm(results_df.select([\"predicted_positions\", \"true_positions\"]).iter_rows(named=True), \n",
    "                    desc=\"Вычисление F1\", total=len(results_df))\n",
    "]\n",
    "\n",
    "results_df = results_df.with_columns(\n",
    "    pl.Series(\"f1_score\", f1_scores, dtype=pl.Float64)\n",
    ")\n",
    "\n",
    "mean_f1 = results_df['f1_score'].mean()\n",
    "print(\"-\" * 50)\n",
    "print(f\"ИТОГОВЫЙ РЕЗУЛЬТАТ:\")\n",
    "print(f\"Средний F1-score на тестовой выборке: {mean_f1:.4f}\")\n",
    "print(\"-\" * 50)\n",
    "\n",
    "os.remove(dictionary_path)\n",
    "print(f\"Временный файл словаря '{dictionary_path}' удален.\")\n",
    "print(\"\\nЯчейка 5: Оценка завершена.\")"
   ]
  },
  {
   "cell_type": "code",
   "execution_count": 11,
   "id": "0fd5dee1-ccbc-4995-926f-c36e7d397e22",
   "metadata": {},
   "outputs": [
    {
     "name": "stdout",
     "output_type": "stream",
     "text": [
      "Анализируем результаты...\n",
      "\n",
      "Примеры с самым низким F1-score (ошибки модели):\n",
      "shape: (5, 6)\n",
      "┌──────────┬───────────────────┬───────────────────┬────────────────┬───────────────────┬──────────┐\n",
      "│ id       ┆ sentence_with_spa ┆ sentence_without_ ┆ true_positions ┆ predicted_positio ┆ f1_score │\n",
      "│ ---      ┆ ces               ┆ spaces            ┆ ---            ┆ ns                ┆ ---      │\n",
      "│ i64      ┆ ---               ┆ ---               ┆ list[i64]      ┆ ---               ┆ f64      │\n",
      "│          ┆ str               ┆ str               ┆                ┆ list[i64]         ┆          │\n",
      "╞══════════╪═══════════════════╪═══════════════════╪════════════════╪═══════════════════╪══════════╡\n",
      "│ 4113081  ┆ - 150 руб         ┆ -150руб           ┆ [1, 4]         ┆ []                ┆ 0.0      │\n",
      "│ 4609223  ┆ Вторичка.         ┆ Вторичка.         ┆ []             ┆ [3, 6]            ┆ 0.0      │\n",
      "│ 13343528 ┆ В наличии.        ┆ Вналичии.         ┆ [1]            ┆ []                ┆ 0.0      │\n",
      "│ 8071711  ┆ _________________ ┆ _________________ ┆ []             ┆ [2]               ┆ 0.0      │\n",
      "│          ┆ _________________ ┆ _________________ ┆                ┆                   ┆          │\n",
      "│          ┆ _________________ ┆ _________________ ┆                ┆                   ┆          │\n",
      "│          ┆ _                 ┆ _                 ┆                ┆                   ┆          │\n",
      "│ 2987075  ┆ - Германская      ┆ -Германскаяовчарк ┆ [1, 11, … 34]  ┆ [10, 18, … 32]    ┆ 0.0      │\n",
      "│          ┆ овчарка. - Очень  ┆ а.-Оченьпреданная ┆                ┆                   ┆          │\n",
      "│          ┆ преданная собака. ┆ собака.           ┆                ┆                   ┆          │\n",
      "└──────────┴───────────────────┴───────────────────┴────────────────┴───────────────────┴──────────┘\n",
      "\n",
      "Примеры с самым высоким F1-score (успехи модели):\n",
      "shape: (5, 6)\n",
      "┌──────────┬───────────────────┬───────────────────┬────────────────┬───────────────────┬──────────┐\n",
      "│ id       ┆ sentence_with_spa ┆ sentence_without_ ┆ true_positions ┆ predicted_positio ┆ f1_score │\n",
      "│ ---      ┆ ces               ┆ spaces            ┆ ---            ┆ ns                ┆ ---      │\n",
      "│ i64      ┆ ---               ┆ ---               ┆ list[i64]      ┆ ---               ┆ f64      │\n",
      "│          ┆ str               ┆ str               ┆                ┆ list[i64]         ┆          │\n",
      "╞══════════╪═══════════════════╪═══════════════════╪════════════════╪═══════════════════╪══════════╡\n",
      "│ 11810066 ┆ Диски R15 для     ┆ ДискиR15длявнедор ┆ [5, 8, 11]     ┆ [5, 8, 11]        ┆ 1.0      │\n",
      "│          ┆ внедорожников.    ┆ ожников.          ┆                ┆                   ┆          │\n",
      "│ 9229936  ┆ Натуральная кожа. ┆ Натуральнаякожа.  ┆ [11]           ┆ [11]              ┆ 1.0      │\n",
      "│ 14686419 ┆ СРОЧНО            ┆ СРОЧНО            ┆ []             ┆ []                ┆ 1.0      │\n",
      "│ 1150225  ┆ но они потеряли   ┆ ноонипотерялиего, ┆ [2, 5, … 49]   ┆ [2, 5, … 49]      ┆ 1.0      │\n",
      "│          ┆ его, не успев     ┆ неуспевустановить ┆                ┆                   ┆          │\n",
      "│          ┆ установить        ┆ местонахождениема ┆                ┆                   ┆          │\n",
      "│          ┆ местонахождение   ┆ шины.             ┆                ┆                   ┆          │\n",
      "│          ┆ машины.           ┆                   ┆                ┆                   ┆          │\n",
      "│ 1937290  ┆ Красная горка.    ┆ Краснаягорка.     ┆ [7]            ┆ [7]               ┆ 1.0      │\n",
      "└──────────┴───────────────────┴───────────────────┴────────────────┴───────────────────┴──────────┘\n",
      "\n",
      "Ячейка 6: Анализ ошибок завершен.\n"
     ]
    }
   ],
   "source": [
    "print(\"Анализируем результаты...\")\n",
    "\n",
    "print(\"\\nПримеры с самым низким F1-score (ошибки модели):\")\n",
    "print(results_df.sort(\"f1_score\").head(5))\n",
    "\n",
    "print(\"\\nПримеры с самым высоким F1-score (успехи модели):\")\n",
    "print(results_df.sort(\"f1_score\", descending=True).head(5))\n",
    "\n",
    "print(\"\\nЯчейка 6: Анализ ошибок завершен.\")"
   ]
  },
  {
   "cell_type": "code",
   "execution_count": null,
   "id": "ff483947-6184-4707-bce6-9097fa0227ba",
   "metadata": {},
   "outputs": [],
   "source": []
  }
 ],
 "metadata": {
  "kernelspec": {
   "display_name": "Python (notebook)",
   "language": "python",
   "name": "notebook"
  },
  "language_info": {
   "codemirror_mode": {
    "name": "ipython",
    "version": 3
   },
   "file_extension": ".py",
   "mimetype": "text/x-python",
   "name": "python",
   "nbconvert_exporter": "python",
   "pygments_lexer": "ipython3",
   "version": "3.11.13"
  }
 },
 "nbformat": 4,
 "nbformat_minor": 5
}
